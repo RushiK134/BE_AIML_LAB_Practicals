{
  "nbformat": 4,
  "nbformat_minor": 0,
  "metadata": {
    "colab": {
      "provenance": [],
      "gpuType": "T4"
    },
    "kernelspec": {
      "name": "python3",
      "display_name": "Python 3"
    },
    "language_info": {
      "name": "python"
    },
    "accelerator": "GPU"
  },
  "cells": [
    {
      "cell_type": "markdown",
      "source": [
        "**Assignment No. 2:- Implementing Feed-forward neural networks with Keras and TensorFlow**"
      ],
      "metadata": {
        "id": "fZpmUx3kAIeB"
      }
    },
    {
      "cell_type": "code",
      "execution_count": null,
      "metadata": {
        "id": "PTlQGV-XADWi"
      },
      "outputs": [],
      "source": [
        "# Import necessary packages\n",
        "import numpy as np\n",
        "import tensorflow as tf\n",
        "from tensorflow.keras.datasets import mnist\n",
        "from tensorflow.keras.models import Sequential\n",
        "from tensorflow.keras.layers import Dense\n",
        "import matplotlib.pyplot as plt"
      ]
    },
    {
      "cell_type": "code",
      "source": [
        "# Load the MNIST dataset\n",
        "(x_train, y_train), (x_test, y_test) = mnist.load_data()\n",
        "\n",
        "# Normalize the input data to range [0, 1]\n",
        "x_train = x_train.astype('float32') / 255.0\n",
        "x_test = x_test.astype('float32') / 255.0\n",
        "\n",
        "# Flatten the input data (28x28 images to 784 pixels)\n",
        "x_train = x_train.reshape((-1, 784))\n",
        "x_test = x_test.reshape((-1, 784))\n",
        "\n",
        "# Define the network architecture\n",
        "model = Sequential()\n",
        "model.add(Dense(128, activation='relu', input_shape=(784,)))\n",
        "model.add(Dense(64, activation='relu'))\n",
        "model.add(Dense(10, activation='softmax'))\n",
        "\n",
        "# Compile the model\n",
        "model.compile(optimizer='sgd', loss='sparse_categorical_crossentropy', metrics=['accuracy'])\n",
        "\n",
        "# Train the model\n",
        "history = model.fit(x_train, y_train, epochs=10, batch_size=64, validation_split=0.2)\n",
        "\n",
        "# Evaluate the network on the test data\n",
        "test_loss, test_accuracy = model.evaluate(x_test, y_test)\n",
        "print(f'Test Loss: {test_loss:.4f}')\n",
        "print(f'Test Accuracy: {test_accuracy:.4f}')\n",
        "\n",
        "# Plot training loss and accuracy\n",
        "train_loss = history.history['loss']\n",
        "val_loss = history.history['val_loss']\n",
        "train_acc = history.history['accuracy']\n",
        "val_acc = history.history['val_accuracy']\n",
        "\n",
        "epochs = range(1, len(train_loss) + 1)\n",
        "\n",
        "plt.figure(figsize=(12, 5))\n",
        "plt.subplot(1, 2, 1)\n",
        "plt.plot(epochs, train_loss, 'b', label='Training Loss')\n",
        "plt.plot(epochs, val_loss, 'r', label='Validation Loss')\n",
        "plt.title('Training and Validation Loss')\n",
        "plt.xlabel('Epochs')\n",
        "plt.ylabel('Loss')\n",
        "plt.legend()\n",
        "\n",
        "plt.subplot(1, 2, 2)\n",
        "plt.plot(epochs, train_acc, 'b', label='Training Accuracy')\n",
        "plt.plot(epochs, val_acc, 'r', label='Validation Accuracy')\n",
        "plt.title('Training and Validation Accuracy')\n",
        "plt.xlabel('Epochs')\n",
        "plt.ylabel('Accuracy')\n",
        "plt.legend()\n",
        "\n",
        "plt.tight_layout()\n",
        "plt.show()\n"
      ],
      "metadata": {
        "colab": {
          "base_uri": "https://localhost:8080/",
          "height": 941
        },
        "id": "5HUFdsJGAOP_",
        "outputId": "195754ff-2e65-43ee-dffa-1068e6e25241"
      },
      "execution_count": null,
      "outputs": [
        {
          "output_type": "stream",
          "name": "stdout",
          "text": [
            "Downloading data from https://storage.googleapis.com/tensorflow/tf-keras-datasets/mnist.npz\n",
            "11490434/11490434 [==============================] - 0s 0us/step\n",
            "Epoch 1/10\n",
            "750/750 [==============================] - 12s 6ms/step - loss: 1.0485 - accuracy: 0.7325 - val_loss: 0.4561 - val_accuracy: 0.8810\n",
            "Epoch 2/10\n",
            "750/750 [==============================] - 2s 3ms/step - loss: 0.4099 - accuracy: 0.8881 - val_loss: 0.3375 - val_accuracy: 0.9066\n",
            "Epoch 3/10\n",
            "750/750 [==============================] - 2s 3ms/step - loss: 0.3326 - accuracy: 0.9064 - val_loss: 0.2918 - val_accuracy: 0.9175\n",
            "Epoch 4/10\n",
            "750/750 [==============================] - 2s 3ms/step - loss: 0.2947 - accuracy: 0.9165 - val_loss: 0.2657 - val_accuracy: 0.9242\n",
            "Epoch 5/10\n",
            "750/750 [==============================] - 3s 4ms/step - loss: 0.2685 - accuracy: 0.9236 - val_loss: 0.2474 - val_accuracy: 0.9295\n",
            "Epoch 6/10\n",
            "750/750 [==============================] - 3s 3ms/step - loss: 0.2487 - accuracy: 0.9292 - val_loss: 0.2302 - val_accuracy: 0.9338\n",
            "Epoch 7/10\n",
            "750/750 [==============================] - 3s 4ms/step - loss: 0.2315 - accuracy: 0.9340 - val_loss: 0.2202 - val_accuracy: 0.9381\n",
            "Epoch 8/10\n",
            "750/750 [==============================] - 2s 3ms/step - loss: 0.2176 - accuracy: 0.9386 - val_loss: 0.2056 - val_accuracy: 0.9431\n",
            "Epoch 9/10\n",
            "750/750 [==============================] - 3s 4ms/step - loss: 0.2053 - accuracy: 0.9416 - val_loss: 0.1978 - val_accuracy: 0.9455\n",
            "Epoch 10/10\n",
            "750/750 [==============================] - 3s 5ms/step - loss: 0.1947 - accuracy: 0.9446 - val_loss: 0.1891 - val_accuracy: 0.9482\n",
            "313/313 [==============================] - 1s 2ms/step - loss: 0.1919 - accuracy: 0.9450\n",
            "Test Loss: 0.1919\n",
            "Test Accuracy: 0.9450\n"
          ]
        },
        {
          "output_type": "display_data",
          "data": {
            "text/plain": [
              "<Figure size 1200x500 with 2 Axes>"
            ],
            "image/png": "[encoded data removed]"
          },
          "metadata": {}
        }
      ]
    },
    {
      "cell_type": "code",
      "source": [],
      "metadata": {
        "id": "zE6RbJDZPmQU"
      },
      "execution_count": null,
      "outputs": []
    },
    {
      "cell_type": "code",
      "source": [],
      "metadata": {
        "id": "iXoeUtoPPgb5"
      },
      "execution_count": null,
      "outputs": []
    },
    {
      "cell_type": "code",
      "source": [],
      "metadata": {
        "id": "5jShMv5lPgYT"
      },
      "execution_count": null,
      "outputs": []
    },
    {
      "cell_type": "code",
      "source": [],
      "metadata": {
        "id": "JBWsGoZ1PgVs"
      },
      "execution_count": null,
      "outputs": []
    },
    {
      "cell_type": "code",
      "source": [],
      "metadata": {
        "id": "aLZafnIFPgSW"
      },
      "execution_count": null,
      "outputs": []
    },
    {
      "cell_type": "code",
      "source": [],
      "metadata": {
        "id": "orEWstBCPgOq"
      },
      "execution_count": null,
      "outputs": []
    },
    {
      "cell_type": "code",
      "source": [],
      "metadata": {
        "id": "e-djYkYtPgLu"
      },
      "execution_count": null,
      "outputs": []
    },
    {
      "cell_type": "code",
      "source": [],
      "metadata": {
        "id": "SjIc20LwPgIo"
      },
      "execution_count": null,
      "outputs": []
    },
    {
      "cell_type": "code",
      "source": [],
      "metadata": {
        "id": "ndtfdH3kPgFT"
      },
      "execution_count": null,
      "outputs": []
    },
    {
      "cell_type": "code",
      "source": [],
      "metadata": {
        "id": "TQMEUYMAPgCE"
      },
      "execution_count": null,
      "outputs": []
    },
    {
      "cell_type": "code",
      "source": [],
      "metadata": {
        "id": "i-lv_pwSPf_Q"
      },
      "execution_count": null,
      "outputs": []
    },
    {
      "cell_type": "code",
      "source": [],
      "metadata": {
        "id": "Ti2HkL0RPf8B"
      },
      "execution_count": null,
      "outputs": []
    },
    {
      "cell_type": "code",
      "source": [],
      "metadata": {
        "id": "AOV7h5X-Pf40"
      },
      "execution_count": null,
      "outputs": []
    },
    {
      "cell_type": "code",
      "source": [],
      "metadata": {
        "id": "NTNvKWAGPf1M"
      },
      "execution_count": null,
      "outputs": []
    },
    {
      "cell_type": "code",
      "source": [],
      "metadata": {
        "id": "m5f1pVZBPfyb"
      },
      "execution_count": null,
      "outputs": []
    },
    {
      "cell_type": "code",
      "source": [],
      "metadata": {
        "id": "IPrvQL2RPfsZ"
      },
      "execution_count": null,
      "outputs": []
    },
    {
      "cell_type": "markdown",
      "source": [
        "**Assignment No. 3:- Build the Image classification model by dividing the model**"
      ],
      "metadata": {
        "id": "H1p_qGvQAXq0"
      }
    },
    {
      "cell_type": "code",
      "source": [
        "# Import necessary packages\n",
        "import numpy as np\n",
        "import tensorflow as tf\n",
        "from tensorflow.keras.datasets import cifar10\n",
        "from tensorflow.keras.models import Sequential\n",
        "from tensorflow.keras.layers import Conv2D, MaxPooling2D, Flatten, Dense\n",
        "from tensorflow.keras.utils import to_categorical"
      ],
      "metadata": {
        "id": "hsarcZZSAZwi"
      },
      "execution_count": null,
      "outputs": []
    },
    {
      "cell_type": "code",
      "source": [
        "# Stage a: Loading and preprocessing the image data\n",
        "# Load the CIFAR-10 dataset\n",
        "(x_train, y_train), (x_test, y_test) = cifar10.load_data()\n",
        "\n",
        "# Normalize pixel values to range [0, 1]\n",
        "x_train = x_train.astype('float32') / 255.0\n",
        "x_test = x_test.astype('float32') / 255.0\n",
        "\n",
        "# One-hot encode the target labels\n",
        "y_train = to_categorical(y_train, 10)\n",
        "y_test = to_categorical(y_test, 10)\n",
        "\n",
        "# Stage b: Defining the model's architecture\n",
        "model = Sequential()\n",
        "model.add(Conv2D(32, (3, 3), activation='relu', input_shape=(32, 32, 3)))\n",
        "model.add(MaxPooling2D((2, 2)))\n",
        "model.add(Conv2D(64, (3, 3), activation='relu'))\n",
        "model.add(MaxPooling2D((2, 2)))\n",
        "model.add(Conv2D(64, (3, 3), activation='relu'))\n",
        "model.add(Flatten())\n",
        "model.add(Dense(64, activation='relu'))\n",
        "model.add(Dense(10, activation='softmax'))\n",
        "\n",
        "# Compile the model\n",
        "model.compile(optimizer='adam',\n",
        "              loss='categorical_crossentropy',\n",
        "              metrics=['accuracy'])\n",
        "\n",
        "# Stage c: Training the model\n",
        "history = model.fit(x_train, y_train, epochs=10, batch_size=64,\n",
        "                    validation_data=(x_test, y_test))\n",
        "\n",
        "# Stage d: Estimating the model's performance\n",
        "test_loss, test_accuracy = model.evaluate(x_test, y_test)\n",
        "print(f'Test Loss: {test_loss:.4f}')\n",
        "print(f'Test Accuracy: {test_accuracy:.4f}')\n"
      ],
      "metadata": {
        "colab": {
          "base_uri": "https://localhost:8080/"
        },
        "id": "74kZzoK3Adf5",
        "outputId": "667f6bb5-98fb-4073-d97f-b5b7bae476ce"
      },
      "execution_count": null,
      "outputs": [
        {
          "output_type": "stream",
          "name": "stdout",
          "text": [
            "Downloading data from https://www.cs.toronto.edu/~kriz/cifar-10-python.tar.gz\n",
            "170498071/170498071 [==============================] - 4s 0us/step\n",
            "Epoch 1/10\n",
            "782/782 [==============================] - 12s 6ms/step - loss: 1.5645 - accuracy: 0.4289 - val_loss: 1.2748 - val_accuracy: 0.5454\n",
            "Epoch 2/10\n",
            "782/782 [==============================] - 5s 6ms/step - loss: 1.2089 - accuracy: 0.5709 - val_loss: 1.1316 - val_accuracy: 0.5957\n",
            "Epoch 3/10\n",
            "782/782 [==============================] - 4s 6ms/step - loss: 1.0732 - accuracy: 0.6234 - val_loss: 1.0540 - val_accuracy: 0.6271\n",
            "Epoch 4/10\n",
            "782/782 [==============================] - 5s 6ms/step - loss: 0.9762 - accuracy: 0.6582 - val_loss: 0.9664 - val_accuracy: 0.6609\n",
            "Epoch 5/10\n",
            "782/782 [==============================] - 5s 6ms/step - loss: 0.8994 - accuracy: 0.6832 - val_loss: 1.0055 - val_accuracy: 0.6589\n",
            "Epoch 6/10\n",
            "782/782 [==============================] - 4s 5ms/step - loss: 0.8443 - accuracy: 0.7058 - val_loss: 0.9269 - val_accuracy: 0.6791\n",
            "Epoch 7/10\n",
            "782/782 [==============================] - 5s 6ms/step - loss: 0.7916 - accuracy: 0.7223 - val_loss: 0.8573 - val_accuracy: 0.7025\n",
            "Epoch 8/10\n",
            "782/782 [==============================] - 4s 5ms/step - loss: 0.7483 - accuracy: 0.7408 - val_loss: 0.8660 - val_accuracy: 0.7023\n",
            "Epoch 9/10\n",
            "782/782 [==============================] - 5s 6ms/step - loss: 0.7081 - accuracy: 0.7533 - val_loss: 0.8998 - val_accuracy: 0.6950\n",
            "Epoch 10/10\n",
            "782/782 [==============================] - 5s 6ms/step - loss: 0.6728 - accuracy: 0.7648 - val_loss: 0.9069 - val_accuracy: 0.6922\n",
            "313/313 [==============================] - 1s 3ms/step - loss: 0.9069 - accuracy: 0.6922\n",
            "Test Loss: 0.9069\n",
            "Test Accuracy: 0.6922\n"
          ]
        }
      ]
    },
    {
      "cell_type": "code",
      "source": [],
      "metadata": {
        "id": "yO_4pAMyAi1b"
      },
      "execution_count": null,
      "outputs": []
    },
    {
      "cell_type": "code",
      "source": [],
      "metadata": {
        "id": "3gh8O1Q-Aix6"
      },
      "execution_count": null,
      "outputs": []
    },
    {
      "cell_type": "code",
      "source": [],
      "metadata": {
        "id": "fX4WJlcUPrm2"
      },
      "execution_count": null,
      "outputs": []
    },
    {
      "cell_type": "code",
      "source": [],
      "metadata": {
        "id": "brKg0CjDPrjf"
      },
      "execution_count": null,
      "outputs": []
    },
    {
      "cell_type": "code",
      "source": [],
      "metadata": {
        "id": "zoIKeyd-PrgU"
      },
      "execution_count": null,
      "outputs": []
    },
    {
      "cell_type": "code",
      "source": [],
      "metadata": {
        "id": "bBZDcHsZPvPh"
      },
      "execution_count": null,
      "outputs": []
    },
    {
      "cell_type": "code",
      "source": [],
      "metadata": {
        "id": "fBjXT6eLPrc7"
      },
      "execution_count": null,
      "outputs": []
    },
    {
      "cell_type": "code",
      "source": [],
      "metadata": {
        "id": "4BL9jkqEPrZ6"
      },
      "execution_count": null,
      "outputs": []
    },
    {
      "cell_type": "code",
      "source": [],
      "metadata": {
        "id": "FzCc7SaePrWc"
      },
      "execution_count": null,
      "outputs": []
    },
    {
      "cell_type": "code",
      "source": [],
      "metadata": {
        "id": "oJaV9lVCPrTH"
      },
      "execution_count": null,
      "outputs": []
    },
    {
      "cell_type": "code",
      "source": [],
      "metadata": {
        "id": "HEw50UJvPrP7"
      },
      "execution_count": null,
      "outputs": []
    },
    {
      "cell_type": "code",
      "source": [],
      "metadata": {
        "id": "0mn5xm2RPrMg"
      },
      "execution_count": null,
      "outputs": []
    },
    {
      "cell_type": "code",
      "source": [],
      "metadata": {
        "id": "d6hOCGl0PrJT"
      },
      "execution_count": null,
      "outputs": []
    },
    {
      "cell_type": "markdown",
      "source": [
        "**Assignment No. 4:- Use Autoencoder to implement anomaly detection.**"
      ],
      "metadata": {
        "id": "zAZ0j2WAAj6M"
      }
    },
    {
      "cell_type": "code",
      "source": [
        "import numpy as np\n",
        "import tensorflow as tf\n",
        "from tensorflow.keras.layers import Input, Dense\n",
        "from tensorflow.keras.models import Model\n",
        "from tensorflow.keras.datasets import mnist\n",
        "from sklearn.model_selection import train_test_split\n",
        "import matplotlib.pyplot as plt"
      ],
      "metadata": {
        "id": "kZTGi1tiAo6y"
      },
      "execution_count": null,
      "outputs": []
    },
    {
      "cell_type": "code",
      "source": [
        "# Load and preprocess the MNIST dataset\n",
        "(x_train, y_train), (x_test, y_test) = mnist.load_data()\n",
        "x_train = x_train.astype('float32') / 255.0\n",
        "x_test = x_test.astype('float32') / 255.0\n",
        "x_train = x_train.reshape((len(x_train), np.prod(x_train.shape[1:])))\n",
        "x_test = x_test.reshape((len(x_test), np.prod(x_test.shape[1:])))\n",
        "\n",
        "# Split the data into training and testing sets\n",
        "x_train, x_val = train_test_split(x_train, test_size=0.2, random_state=42)\n",
        "\n",
        "# Define the encoder\n",
        "input_layer = Input(shape=(x_train.shape[1],))\n",
        "encoded = Dense(128, activation='relu')(input_layer)\n",
        "encoded = Dense(64, activation='relu')(encoded)\n",
        "encoded = Dense(32, activation='relu')(encoded)  # Latent representation\n",
        "\n",
        "# Create the encoder model\n",
        "encoder = Model(input_layer, encoded)\n",
        "\n",
        "# Define the decoder\n",
        "decoded = Dense(64, activation='relu')(encoded)\n",
        "decoded = Dense(128, activation='relu')(decoded)\n",
        "decoded = Dense(x_train.shape[1], activation='sigmoid')(decoded)\n",
        "\n",
        "# Create the autoencoder model\n",
        "autoencoder = Model(input_layer, decoded)\n",
        "\n",
        "# Compile the autoencoder model\n",
        "autoencoder.compile(optimizer='adam', loss='mean_squared_error')\n",
        "\n",
        "# Train the autoencoder on the training data\n",
        "autoencoder.fit(x_train, x_train, epochs=10, batch_size=32, validation_data=(x_val, x_val))\n",
        "\n",
        "# Evaluate the autoencoder on the test data\n",
        "reconstruction_errors = np.mean(np.square(x_test - autoencoder.predict(x_test)), axis=1)\n",
        "\n",
        "# Set a threshold for anomaly detection (e.g., using a percentile)\n",
        "threshold = np.percentile(reconstruction_errors, 95)\n",
        "\n",
        "# Detect anomalies in the test data\n",
        "anomalies = x_test[reconstruction_errors > threshold]\n",
        "\n",
        "# Display some of the detected anomalies\n",
        "n_anomalies_to_display = 5\n",
        "for i in range(n_anomalies_to_display):\n",
        "    plt.subplot(1, n_anomalies_to_display, i + 1)\n",
        "    plt.imshow(anomalies[i].reshape(28, 28), cmap='gray')\n",
        "    plt.title(f'Anomaly {i + 1}')\n",
        "    plt.axis('off')\n",
        "\n",
        "plt.show()\n"
      ],
      "metadata": {
        "colab": {
          "base_uri": "https://localhost:8080/",
          "height": 509
        },
        "id": "_zS7WViXAx0T",
        "outputId": "40ff015f-54cf-4dd9-ea91-806f5c550d88"
      },
      "execution_count": null,
      "outputs": [
        {
          "output_type": "stream",
          "name": "stdout",
          "text": [
            "Epoch 1/10\n",
            "1500/1500 [==============================] - 9s 5ms/step - loss: 0.0341 - val_loss: 0.0202\n",
            "Epoch 2/10\n",
            "1500/1500 [==============================] - 5s 4ms/step - loss: 0.0175 - val_loss: 0.0154\n",
            "Epoch 3/10\n",
            "1500/1500 [==============================] - 6s 4ms/step - loss: 0.0143 - val_loss: 0.0134\n",
            "Epoch 4/10\n",
            "1500/1500 [==============================] - 6s 4ms/step - loss: 0.0127 - val_loss: 0.0120\n",
            "Epoch 5/10\n",
            "1500/1500 [==============================] - 6s 4ms/step - loss: 0.0116 - val_loss: 0.0113\n",
            "Epoch 6/10\n",
            "1500/1500 [==============================] - 6s 4ms/step - loss: 0.0108 - val_loss: 0.0107\n",
            "Epoch 7/10\n",
            "1500/1500 [==============================] - 6s 4ms/step - loss: 0.0102 - val_loss: 0.0102\n",
            "Epoch 8/10\n",
            "1500/1500 [==============================] - 6s 4ms/step - loss: 0.0098 - val_loss: 0.0100\n",
            "Epoch 9/10\n",
            "1500/1500 [==============================] - 5s 4ms/step - loss: 0.0095 - val_loss: 0.0094\n",
            "Epoch 10/10\n",
            "1500/1500 [==============================] - 6s 4ms/step - loss: 0.0092 - val_loss: 0.0092\n",
            "313/313 [==============================] - 1s 2ms/step\n"
          ]
        },
        {
          "output_type": "display_data",
          "data": {
            "text/plain": [
              "<Figure size 640x480 with 5 Axes>"
            ],
            "image/png": "[encoded data removed]"
          },
          "metadata": {}
        }
      ]
    },
    {
      "cell_type": "code",
      "source": [],
      "metadata": {
        "id": "cct4n0pTA6AU"
      },
      "execution_count": null,
      "outputs": []
    },
    {
      "cell_type": "code",
      "source": [],
      "metadata": {
        "id": "zUdOw3ExA586"
      },
      "execution_count": null,
      "outputs": []
    },
    {
      "cell_type": "code",
      "source": [],
      "metadata": {
        "id": "TALBzSpVP0Dj"
      },
      "execution_count": null,
      "outputs": []
    },
    {
      "cell_type": "code",
      "source": [],
      "metadata": {
        "id": "RtvnwwJ-P0A3"
      },
      "execution_count": null,
      "outputs": []
    },
    {
      "cell_type": "code",
      "source": [],
      "metadata": {
        "id": "F8JAnzwKP5ti"
      },
      "execution_count": null,
      "outputs": []
    },
    {
      "cell_type": "code",
      "source": [],
      "metadata": {
        "id": "coDZ_MZhPz9y"
      },
      "execution_count": null,
      "outputs": []
    },
    {
      "cell_type": "markdown",
      "source": [
        "**Assignment No. 5:- Implement the Continuous Bag of Words (CBOW) Model.**"
      ],
      "metadata": {
        "id": "NtcmUmJ0A6wZ"
      }
    },
    {
      "cell_type": "code",
      "source": [
        "import numpy as np\n",
        "import tensorflow as tf\n",
        "from tensorflow.keras.layers import Embedding, Dense, Lambda\n",
        "from tensorflow.keras.models import Sequential\n",
        "from tensorflow.keras.preprocessing.text import Tokenizer\n",
        "from tensorflow.keras.preprocessing.sequence import pad_sequences"
      ],
      "metadata": {
        "id": "oUooE0OfCpLn"
      },
      "execution_count": null,
      "outputs": []
    },
    {
      "cell_type": "code",
      "source": [
        "# Sample text data (replace with your own text data)\n",
        "corpus = [\n",
        "    'this is a sample sentence',\n",
        "    'continuous bag of words model',\n",
        "    'implementation of cbow',\n",
        "    'natural language processing',\n",
        "    'deep learning for nlp tasks',\n",
        "]\n",
        "\n",
        "# Stage a: Data Preparation\n",
        "tokenizer = Tokenizer()\n",
        "tokenizer.fit_on_texts(corpus)\n",
        "vocab_size = len(tokenizer.word_index) + 1\n",
        "\n",
        "# Generate word sequences and context-target pairs for CBOW\n",
        "context_window = 2\n",
        "\n",
        "def generate_training_data(corpus, tokenizer, window_size):\n",
        "    sequences = tokenizer.texts_to_sequences(corpus)\n",
        "    X = []\n",
        "    y = []\n",
        "    for sequence in sequences:\n",
        "        for i in range(window_size, len(sequence) - window_size):\n",
        "            context = sequence[i - window_size:i] + sequence[i + 1:i + window_size + 1]\n",
        "            target = sequence[i]\n",
        "            X.append(context)\n",
        "            y.append(target)\n",
        "    return np.array(X), np.array(y)\n",
        "\n",
        "X_train, y_train = generate_training_data(corpus, tokenizer, context_window)\n",
        "\n",
        "# Stage b: Generate training data (completed above)\n",
        "\n",
        "# Stage c: Train CBOW model\n",
        "embedding_dim = 50\n",
        "\n",
        "model = Sequential([\n",
        "    Embedding(input_dim=vocab_size, output_dim=embedding_dim, input_length=context_window * 2),\n",
        "    Lambda(lambda x: tf.reduce_mean(x, axis=1)),\n",
        "    Dense(units=vocab_size, activation='softmax')\n",
        "])\n",
        "\n",
        "model.compile(loss='sparse_categorical_crossentropy', optimizer='adam')\n",
        "model.fit(X_train, y_train, epochs=100, verbose=2)\n",
        "\n",
        "# Stage d: Output\n",
        "word_embeddings = model.layers[0].get_weights()[0]\n",
        "\n",
        "# Function to find the closest words to a given word\n",
        "def find_closest_words(word_embeddings, target_word, tokenizer, top_n=5):\n",
        "    target_word_index = tokenizer.word_index.get(target_word)\n",
        "    if target_word_index is None:\n",
        "        return []\n",
        "\n",
        "    target_embedding = word_embeddings[target_word_index]\n",
        "    distances = np.linalg.norm(word_embeddings - target_embedding, axis=1)\n",
        "    closest_indices = np.argsort(distances)[1:top_n + 1]\n",
        "    closest_words = [word for word, index in tokenizer.word_index.items() if index in closest_indices]\n",
        "    return closest_words\n",
        "\n",
        "# Test the CBOW model by finding closest words\n",
        "target_word = 'cbow'\n",
        "closest_words = find_closest_words(word_embeddings, target_word, tokenizer)\n",
        "print(f\"Closest words to '{target_word}': {closest_words}\")\n"
      ],
      "metadata": {
        "colab": {
          "base_uri": "https://localhost:8080/"
        },
        "id": "yahLL475BDSG",
        "outputId": "e2982d51-3098-4a9e-9880-91aa02aad58f"
      },
      "execution_count": null,
      "outputs": [
        {
          "output_type": "stream",
          "name": "stdout",
          "text": [
            "Epoch 1/100\n",
            "1/1 - 1s - loss: 3.0407 - 758ms/epoch - 758ms/step\n",
            "Epoch 2/100\n",
            "1/1 - 0s - loss: 3.0308 - 9ms/epoch - 9ms/step\n",
            "Epoch 3/100\n",
            "1/1 - 0s - loss: 3.0209 - 7ms/epoch - 7ms/step\n",
            "Epoch 4/100\n",
            "1/1 - 0s - loss: 3.0110 - 7ms/epoch - 7ms/step\n",
            "Epoch 5/100\n",
            "1/1 - 0s - loss: 3.0011 - 6ms/epoch - 6ms/step\n",
            "Epoch 6/100\n",
            "1/1 - 0s - loss: 2.9912 - 9ms/epoch - 9ms/step\n",
            "Epoch 7/100\n",
            "1/1 - 0s - loss: 2.9813 - 6ms/epoch - 6ms/step\n",
            "Epoch 8/100\n",
            "1/1 - 0s - loss: 2.9714 - 7ms/epoch - 7ms/step\n",
            "Epoch 9/100\n",
            "1/1 - 0s - loss: 2.9614 - 7ms/epoch - 7ms/step\n",
            "Epoch 10/100\n",
            "1/1 - 0s - loss: 2.9513 - 6ms/epoch - 6ms/step\n",
            "Epoch 11/100\n",
            "1/1 - 0s - loss: 2.9413 - 6ms/epoch - 6ms/step\n",
            "Epoch 12/100\n",
            "1/1 - 0s - loss: 2.9311 - 6ms/epoch - 6ms/step\n",
            "Epoch 13/100\n",
            "1/1 - 0s - loss: 2.9209 - 7ms/epoch - 7ms/step\n",
            "Epoch 14/100\n",
            "1/1 - 0s - loss: 2.9106 - 6ms/epoch - 6ms/step\n",
            "Epoch 15/100\n",
            "1/1 - 0s - loss: 2.9002 - 6ms/epoch - 6ms/step\n",
            "Epoch 16/100\n",
            "1/1 - 0s - loss: 2.8897 - 6ms/epoch - 6ms/step\n",
            "Epoch 17/100\n",
            "1/1 - 0s - loss: 2.8791 - 8ms/epoch - 8ms/step\n",
            "Epoch 18/100\n",
            "1/1 - 0s - loss: 2.8684 - 8ms/epoch - 8ms/step\n",
            "Epoch 19/100\n",
            "1/1 - 0s - loss: 2.8576 - 7ms/epoch - 7ms/step\n",
            "Epoch 20/100\n",
            "1/1 - 0s - loss: 2.8467 - 7ms/epoch - 7ms/step\n",
            "Epoch 21/100\n",
            "1/1 - 0s - loss: 2.8356 - 8ms/epoch - 8ms/step\n",
            "Epoch 22/100\n",
            "1/1 - 0s - loss: 2.8244 - 7ms/epoch - 7ms/step\n",
            "Epoch 23/100\n",
            "1/1 - 0s - loss: 2.8130 - 7ms/epoch - 7ms/step\n",
            "Epoch 24/100\n",
            "1/1 - 0s - loss: 2.8015 - 7ms/epoch - 7ms/step\n",
            "Epoch 25/100\n",
            "1/1 - 0s - loss: 2.7899 - 7ms/epoch - 7ms/step\n",
            "Epoch 26/100\n",
            "1/1 - 0s - loss: 2.7781 - 8ms/epoch - 8ms/step\n",
            "Epoch 27/100\n",
            "1/1 - 0s - loss: 2.7661 - 7ms/epoch - 7ms/step\n",
            "Epoch 28/100\n",
            "1/1 - 0s - loss: 2.7539 - 7ms/epoch - 7ms/step\n",
            "Epoch 29/100\n",
            "1/1 - 0s - loss: 2.7416 - 10ms/epoch - 10ms/step\n",
            "Epoch 30/100\n",
            "1/1 - 0s - loss: 2.7291 - 7ms/epoch - 7ms/step\n",
            "Epoch 31/100\n",
            "1/1 - 0s - loss: 2.7165 - 8ms/epoch - 8ms/step\n",
            "Epoch 32/100\n",
            "1/1 - 0s - loss: 2.7036 - 6ms/epoch - 6ms/step\n",
            "Epoch 33/100\n",
            "1/1 - 0s - loss: 2.6906 - 18ms/epoch - 18ms/step\n",
            "Epoch 34/100\n",
            "1/1 - 0s - loss: 2.6773 - 9ms/epoch - 9ms/step\n",
            "Epoch 35/100\n",
            "1/1 - 0s - loss: 2.6639 - 7ms/epoch - 7ms/step\n",
            "Epoch 36/100\n",
            "1/1 - 0s - loss: 2.6502 - 7ms/epoch - 7ms/step\n",
            "Epoch 37/100\n",
            "1/1 - 0s - loss: 2.6364 - 7ms/epoch - 7ms/step\n",
            "Epoch 38/100\n",
            "1/1 - 0s - loss: 2.6224 - 7ms/epoch - 7ms/step\n",
            "Epoch 39/100\n",
            "1/1 - 0s - loss: 2.6081 - 8ms/epoch - 8ms/step\n",
            "Epoch 40/100\n",
            "1/1 - 0s - loss: 2.5936 - 8ms/epoch - 8ms/step\n",
            "Epoch 41/100\n",
            "1/1 - 0s - loss: 2.5789 - 8ms/epoch - 8ms/step\n",
            "Epoch 42/100\n",
            "1/1 - 0s - loss: 2.5640 - 8ms/epoch - 8ms/step\n",
            "Epoch 43/100\n",
            "1/1 - 0s - loss: 2.5489 - 8ms/epoch - 8ms/step\n",
            "Epoch 44/100\n",
            "1/1 - 0s - loss: 2.5335 - 10ms/epoch - 10ms/step\n",
            "Epoch 45/100\n",
            "1/1 - 0s - loss: 2.5180 - 8ms/epoch - 8ms/step\n",
            "Epoch 46/100\n",
            "1/1 - 0s - loss: 2.5022 - 8ms/epoch - 8ms/step\n",
            "Epoch 47/100\n",
            "1/1 - 0s - loss: 2.4861 - 7ms/epoch - 7ms/step\n",
            "Epoch 48/100\n",
            "1/1 - 0s - loss: 2.4699 - 8ms/epoch - 8ms/step\n",
            "Epoch 49/100\n",
            "1/1 - 0s - loss: 2.4534 - 8ms/epoch - 8ms/step\n",
            "Epoch 50/100\n",
            "1/1 - 0s - loss: 2.4367 - 8ms/epoch - 8ms/step\n",
            "Epoch 51/100\n",
            "1/1 - 0s - loss: 2.4198 - 8ms/epoch - 8ms/step\n",
            "Epoch 52/100\n",
            "1/1 - 0s - loss: 2.4026 - 9ms/epoch - 9ms/step\n",
            "Epoch 53/100\n",
            "1/1 - 0s - loss: 2.3852 - 9ms/epoch - 9ms/step\n",
            "Epoch 54/100\n",
            "1/1 - 0s - loss: 2.3676 - 7ms/epoch - 7ms/step\n",
            "Epoch 55/100\n",
            "1/1 - 0s - loss: 2.3498 - 14ms/epoch - 14ms/step\n",
            "Epoch 56/100\n",
            "1/1 - 0s - loss: 2.3317 - 14ms/epoch - 14ms/step\n",
            "Epoch 57/100\n",
            "1/1 - 0s - loss: 2.3134 - 10ms/epoch - 10ms/step\n",
            "Epoch 58/100\n",
            "1/1 - 0s - loss: 2.2949 - 9ms/epoch - 9ms/step\n",
            "Epoch 59/100\n",
            "1/1 - 0s - loss: 2.2761 - 8ms/epoch - 8ms/step\n",
            "Epoch 60/100\n",
            "1/1 - 0s - loss: 2.2572 - 8ms/epoch - 8ms/step\n",
            "Epoch 61/100\n",
            "1/1 - 0s - loss: 2.2380 - 7ms/epoch - 7ms/step\n",
            "Epoch 62/100\n",
            "1/1 - 0s - loss: 2.2186 - 7ms/epoch - 7ms/step\n",
            "Epoch 63/100\n",
            "1/1 - 0s - loss: 2.1990 - 7ms/epoch - 7ms/step\n",
            "Epoch 64/100\n",
            "1/1 - 0s - loss: 2.1791 - 9ms/epoch - 9ms/step\n",
            "Epoch 65/100\n",
            "1/1 - 0s - loss: 2.1591 - 7ms/epoch - 7ms/step\n",
            "Epoch 66/100\n",
            "1/1 - 0s - loss: 2.1389 - 7ms/epoch - 7ms/step\n",
            "Epoch 67/100\n",
            "1/1 - 0s - loss: 2.1184 - 8ms/epoch - 8ms/step\n",
            "Epoch 68/100\n",
            "1/1 - 0s - loss: 2.0978 - 8ms/epoch - 8ms/step\n",
            "Epoch 69/100\n",
            "1/1 - 0s - loss: 2.0769 - 7ms/epoch - 7ms/step\n",
            "Epoch 70/100\n",
            "1/1 - 0s - loss: 2.0559 - 7ms/epoch - 7ms/step\n",
            "Epoch 71/100\n",
            "1/1 - 0s - loss: 2.0347 - 8ms/epoch - 8ms/step\n",
            "Epoch 72/100\n",
            "1/1 - 0s - loss: 2.0133 - 7ms/epoch - 7ms/step\n",
            "Epoch 73/100\n",
            "1/1 - 0s - loss: 1.9917 - 7ms/epoch - 7ms/step\n",
            "Epoch 74/100\n",
            "1/1 - 0s - loss: 1.9700 - 7ms/epoch - 7ms/step\n",
            "Epoch 75/100\n",
            "1/1 - 0s - loss: 1.9481 - 8ms/epoch - 8ms/step\n",
            "Epoch 76/100\n",
            "1/1 - 0s - loss: 1.9260 - 8ms/epoch - 8ms/step\n",
            "Epoch 77/100\n",
            "1/1 - 0s - loss: 1.9038 - 8ms/epoch - 8ms/step\n",
            "Epoch 78/100\n",
            "1/1 - 0s - loss: 1.8814 - 8ms/epoch - 8ms/step\n",
            "Epoch 79/100\n",
            "1/1 - 0s - loss: 1.8589 - 9ms/epoch - 9ms/step\n",
            "Epoch 80/100\n",
            "1/1 - 0s - loss: 1.8362 - 8ms/epoch - 8ms/step\n",
            "Epoch 81/100\n",
            "1/1 - 0s - loss: 1.8134 - 8ms/epoch - 8ms/step\n",
            "Epoch 82/100\n",
            "1/1 - 0s - loss: 1.7905 - 11ms/epoch - 11ms/step\n",
            "Epoch 83/100\n",
            "1/1 - 0s - loss: 1.7675 - 7ms/epoch - 7ms/step\n",
            "Epoch 84/100\n",
            "1/1 - 0s - loss: 1.7444 - 9ms/epoch - 9ms/step\n",
            "Epoch 85/100\n",
            "1/1 - 0s - loss: 1.7211 - 8ms/epoch - 8ms/step\n",
            "Epoch 86/100\n",
            "1/1 - 0s - loss: 1.6978 - 10ms/epoch - 10ms/step\n",
            "Epoch 87/100\n",
            "1/1 - 0s - loss: 1.6744 - 8ms/epoch - 8ms/step\n",
            "Epoch 88/100\n",
            "1/1 - 0s - loss: 1.6509 - 7ms/epoch - 7ms/step\n",
            "Epoch 89/100\n",
            "1/1 - 0s - loss: 1.6274 - 8ms/epoch - 8ms/step\n",
            "Epoch 90/100\n",
            "1/1 - 0s - loss: 1.6038 - 7ms/epoch - 7ms/step\n",
            "Epoch 91/100\n",
            "1/1 - 0s - loss: 1.5802 - 7ms/epoch - 7ms/step\n",
            "Epoch 92/100\n",
            "1/1 - 0s - loss: 1.5565 - 8ms/epoch - 8ms/step\n",
            "Epoch 93/100\n",
            "1/1 - 0s - loss: 1.5328 - 7ms/epoch - 7ms/step\n",
            "Epoch 94/100\n",
            "1/1 - 0s - loss: 1.5091 - 8ms/epoch - 8ms/step\n",
            "Epoch 95/100\n",
            "1/1 - 0s - loss: 1.4854 - 7ms/epoch - 7ms/step\n",
            "Epoch 96/100\n",
            "1/1 - 0s - loss: 1.4617 - 7ms/epoch - 7ms/step\n",
            "Epoch 97/100\n",
            "1/1 - 0s - loss: 1.4380 - 8ms/epoch - 8ms/step\n",
            "Epoch 98/100\n",
            "1/1 - 0s - loss: 1.4143 - 7ms/epoch - 7ms/step\n",
            "Epoch 99/100\n",
            "1/1 - 0s - loss: 1.3907 - 7ms/epoch - 7ms/step\n",
            "Epoch 100/100\n",
            "1/1 - 0s - loss: 1.3671 - 6ms/epoch - 6ms/step\n",
            "Closest words to 'cbow': ['a', 'natural', 'language', 'processing', 'for']\n"
          ]
        }
      ]
    },
    {
      "cell_type": "code",
      "source": [],
      "metadata": {
        "id": "oTDfGNxOD5Ob"
      },
      "execution_count": null,
      "outputs": []
    },
    {
      "cell_type": "code",
      "source": [],
      "metadata": {
        "id": "bA4b8mX8RSZt"
      },
      "execution_count": null,
      "outputs": []
    },
    {
      "cell_type": "code",
      "source": [],
      "metadata": {
        "id": "nV-SZFfLRRZ2"
      },
      "execution_count": null,
      "outputs": []
    },
    {
      "cell_type": "code",
      "source": [],
      "metadata": {
        "id": "0LQe7h9uRRSq"
      },
      "execution_count": null,
      "outputs": []
    },
    {
      "cell_type": "code",
      "source": [],
      "metadata": {
        "id": "d4GTi4bXRbcN"
      },
      "execution_count": null,
      "outputs": []
    },
    {
      "cell_type": "code",
      "source": [],
      "metadata": {
        "id": "IFEyqGdKQbX5"
      },
      "execution_count": null,
      "outputs": []
    },
    {
      "cell_type": "code",
      "source": [],
      "metadata": {
        "id": "TTaJIbv4jPC1"
      },
      "execution_count": null,
      "outputs": []
    },
    {
      "cell_type": "code",
      "source": [],
      "metadata": {
        "id": "jk-Ues9mQSeH"
      },
      "execution_count": null,
      "outputs": []
    },
    {
      "cell_type": "code",
      "source": [],
      "metadata": {
        "id": "Psb9uJ0dQSbD"
      },
      "execution_count": null,
      "outputs": []
    },
    {
      "cell_type": "code",
      "source": [],
      "metadata": {
        "id": "gjxNiAVEQSYP"
      },
      "execution_count": null,
      "outputs": []
    },
    {
      "cell_type": "code",
      "source": [],
      "metadata": {
        "id": "JeyVZgPZQSVC"
      },
      "execution_count": null,
      "outputs": []
    },
    {
      "cell_type": "code",
      "source": [],
      "metadata": {
        "id": "3Un_lKkUQSSC"
      },
      "execution_count": null,
      "outputs": []
    },
    {
      "cell_type": "markdown",
      "source": [
        "**Assignment No. 6:- Object detection using Transfer Learning of CNN architectures.**"
      ],
      "metadata": {
        "id": "a7G7HjHcD9Sz"
      }
    },
    {
      "cell_type": "code",
      "source": [
        "# Importing required libraries\n",
        "import tensorflow as tf\n",
        "from tensorflow.keras.datasets import cifar10\n",
        "from tensorflow.keras.models import Sequential\n",
        "from tensorflow.keras.layers import Dense, Dropout, Flatten\n",
        "from tensorflow.keras.layers import Conv2D, MaxPooling2D\n",
        "import matplotlib.pyplot as plt\n",
        "import numpy\n",
        "\n",
        "# Load CIFAR10 dataset\n",
        "(x_train, y_train), (x_test, y_test) = cifar10.load_data()\n",
        "\n",
        "# Normalize pixel values to be between 0 and 1\n",
        "x_train, x_test = x_train / 255.0, x_test / 255.0\n",
        "\n",
        "# Define the model architecture\n",
        "model = Sequential([\n",
        "    Conv2D(32, (3, 3), activation='relu', input_shape=(32, 32, 3)),\n",
        "    MaxPooling2D((2, 2)),\n",
        "    Conv2D(64, (3, 3), activation='relu'),\n",
        "    MaxPooling2D((2, 2)),\n",
        "    Conv2D(64, (3, 3), activation='relu'),\n",
        "    Flatten(),\n",
        "    Dense(64, activation='relu'),\n",
        "    Dropout(0.5),\n",
        "    Dense(10)\n",
        "])\n",
        "\n",
        "# Freeze the weights in the model's lower convolutional layers\n",
        "for layer in model.layers[:3]:\n",
        "    layer.trainable = False\n",
        "\n",
        "# Compile the model\n",
        "model.compile(optimizer='adam',\n",
        "              loss=tf.keras.losses.SparseCategoricalCrossentropy(from_logits=True),\n",
        "              metrics=['accuracy'])\n",
        "\n",
        "# Train the classifier layers on training data available for the task\n",
        "history = model.fit(x_train, y_train,\n",
        "                    epochs=5,\n",
        "                    validation_data=(x_test, y_test))\n",
        "\n",
        "# Fine-tune hyperparameters and unfreeze more layers as needed\n",
        "for layer in model.layers[:3]:\n",
        "    layer.trainable = True\n",
        "\n",
        "model.compile(optimizer=tf.keras.optimizers.Adam(1e-5),\n",
        "              loss=tf.keras.losses.SparseCategoricalCrossentropy(from_logits=True),\n",
        "              metrics=['accuracy'])\n",
        "\n",
        "history = model.fit(x_train, y_train,\n",
        "                    epochs=5,\n",
        "                    validation_data=(x_test, y_test))\n",
        "\n",
        "# Add output to code\n",
        "print(\"Training accuracy: \", history.history['accuracy'][-1])\n",
        "print(\"Validation accuracy: \", history.history['val_accuracy'][-1])\n"
      ],
      "metadata": {
        "id": "QPPEHISfEBHz",
        "colab": {
          "base_uri": "https://localhost:8080/",
          "height": 0
        },
        "outputId": "53d3fceb-b293-4057-bbd7-580e36a3fb61"
      },
      "execution_count": 1,
      "outputs": [
        {
          "output_type": "stream",
          "name": "stdout",
          "text": [
            "Downloading data from https://www.cs.toronto.edu/~kriz/cifar-10-python.tar.gz\n",
            "170498071/170498071 [==============================] - 2s 0us/step\n",
            "Epoch 1/5\n",
            "1563/1563 [==============================] - 21s 5ms/step - loss: 1.8775 - accuracy: 0.2969 - val_loss: 1.6886 - val_accuracy: 0.3919\n",
            "Epoch 2/5\n",
            "1563/1563 [==============================] - 7s 4ms/step - loss: 1.6760 - accuracy: 0.3851 - val_loss: 1.5186 - val_accuracy: 0.4496\n",
            "Epoch 3/5\n",
            "1563/1563 [==============================] - 7s 5ms/step - loss: 1.5961 - accuracy: 0.4172 - val_loss: 1.4709 - val_accuracy: 0.4682\n",
            "Epoch 4/5\n",
            "1563/1563 [==============================] - 7s 4ms/step - loss: 1.5473 - accuracy: 0.4383 - val_loss: 1.4267 - val_accuracy: 0.4842\n",
            "Epoch 5/5\n",
            "1563/1563 [==============================] - 7s 4ms/step - loss: 1.5089 - accuracy: 0.4516 - val_loss: 1.3805 - val_accuracy: 0.5058\n",
            "Epoch 1/5\n",
            "1563/1563 [==============================] - 10s 5ms/step - loss: 1.4517 - accuracy: 0.4749 - val_loss: 1.3313 - val_accuracy: 0.5229\n",
            "Epoch 2/5\n",
            "1563/1563 [==============================] - 10s 6ms/step - loss: 1.4346 - accuracy: 0.4831 - val_loss: 1.3227 - val_accuracy: 0.5268\n",
            "Epoch 3/5\n",
            "1563/1563 [==============================] - 8s 5ms/step - loss: 1.4306 - accuracy: 0.4845 - val_loss: 1.3186 - val_accuracy: 0.5285\n",
            "Epoch 4/5\n",
            "1563/1563 [==============================] - 7s 5ms/step - loss: 1.4245 - accuracy: 0.4875 - val_loss: 1.3077 - val_accuracy: 0.5321\n",
            "Epoch 5/5\n",
            "1563/1563 [==============================] - 9s 5ms/step - loss: 1.4162 - accuracy: 0.4887 - val_loss: 1.3043 - val_accuracy: 0.5326\n",
            "Training accuracy:  0.4886600077152252\n",
            "Validation accuracy:  0.5325999855995178\n"
          ]
        }
      ]
    }
  ]
}