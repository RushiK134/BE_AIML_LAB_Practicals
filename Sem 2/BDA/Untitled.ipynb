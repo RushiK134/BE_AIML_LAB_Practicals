{
 "cells": [
  {
   "cell_type": "code",
   "execution_count": 48,
   "id": "5e8671b6",
   "metadata": {},
   "outputs": [],
   "source": [
    "import sqlite3\n",
    "import random\n",
    "from datetime import datetime, timedelta\n",
    "\n",
    "# Generate sample data for 2013\n",
    "dates = [datetime(2013, 1, 1) + timedelta(days=i) for i in range(365)]\n",
    "stations = ['Shimla, Himachal Pradesh', 'Nainital, Uttarakhand', 'Gulmarg, Jammu & Kashmir', 'Katao, Sikkim', 'Tawang, Arunachal Pradesh']\n",
    "snowfall = [random.randint(0, 20) for _ in range(365)]\n",
    "\n",
    "# Create a SQLite database\n",
    "conn = sqlite3.connect('weather_data_2013.db')\n",
    "cursor = conn.cursor()\n",
    "\n",
    "# Create a table\n",
    "cursor.execute('''CREATE TABLE IF NOT EXISTS weather_data\n",
    "              (Date TEXT, Station TEXT, Snowfall INTEGER)''')\n",
    "\n",
    "# Insert data into the table\n",
    "for date, station, snowfall_amount in zip(dates, stations, snowfall):\n",
    "    cursor.execute(\"INSERT INTO weather_data (Date, Station, Snowfall) VALUES (?, ?, ?)\",\n",
    "                   (date.strftime('%Y-%m-%d'), station, snowfall_amount))\n",
    "\n",
    "# Commit changes and close the connection\n",
    "conn.commit()\n",
    "conn.close()\n"
   ]
  },
  {
   "cell_type": "code",
   "execution_count": 49,
   "id": "22d93501",
   "metadata": {},
   "outputs": [],
   "source": [
    "import sqlite3\n",
    "\n",
    "# Connect to the SQLite database\n",
    "conn = sqlite3.connect('weather_data_2013.db')\n",
    "cursor = conn.cursor()\n",
    "\n"
   ]
  },
  {
   "cell_type": "code",
   "execution_count": 50,
   "id": "22ae70aa",
   "metadata": {},
   "outputs": [
    {
     "name": "stdout",
     "output_type": "stream",
     "text": [
      "('2013-01-01', 'Shimla, Himachal Pradesh', 6)\n",
      "('2013-01-02', 'Nainital, Uttarakhand', 11)\n",
      "('2013-01-03', 'Gulmarg, Jammu & Kashmir', 7)\n",
      "('2013-01-04', 'Katao, Sikkim', 17)\n",
      "('2013-01-05', 'Tawang, Arunachal Pradesh', 2)\n",
      "('2013-01-01', 'Shimla, Himachal Pradesh', 0)\n",
      "('2013-01-02', 'Nainital, Uttarakhand', 13)\n",
      "('2013-01-03', 'Gulmarg, Jammu & Kashmir', 19)\n",
      "('2013-01-04', 'Katao, Sikkim', 20)\n",
      "('2013-01-05', 'Tawang, Arunachal Pradesh', 10)\n",
      "('2013-01-01', 'Shimla, Himachal Pradesh', 9)\n",
      "('2013-01-02', 'Nainital, Uttarakhand', 6)\n",
      "('2013-01-03', 'Gulmarg, Jammu & Kashmir', 13)\n",
      "('2013-01-04', 'Katao, Sikkim', 15)\n",
      "('2013-01-05', 'Tawang, Arunachal Pradesh', 18)\n",
      "('2013-01-01', 'Shimla, Himachal Pradesh', 4)\n",
      "('2013-01-02', 'Nainital, Uttarakhand', 10)\n",
      "('2013-01-03', 'Gulmarg, Jammu & Kashmir', 2)\n",
      "('2013-01-04', 'Katao, Sikkim', 11)\n",
      "('2013-01-05', 'Tawang, Arunachal Pradesh', 3)\n",
      "('2013-01-01', 'Shimla, Himachal Pradesh', 13)\n",
      "('2013-01-02', 'Nainital, Uttarakhand', 5)\n",
      "('2013-01-03', 'Gulmarg, Jammu & Kashmir', 15)\n",
      "('2013-01-04', 'Katao, Sikkim', 6)\n",
      "('2013-01-05', 'Tawang, Arunachal Pradesh', 18)\n",
      "('2013-01-01', 'Shimla, Himachal Pradesh', 20)\n",
      "('2013-01-02', 'Nainital, Uttarakhand', 15)\n",
      "('2013-01-03', 'Gulmarg, Jammu & Kashmir', 16)\n",
      "('2013-01-04', 'Katao, Sikkim', 13)\n",
      "('2013-01-05', 'Tawang, Arunachal Pradesh', 13)\n",
      "('2013-01-01', 'Shimla, Himachal Pradesh', 4)\n",
      "('2013-01-02', 'Nainital, Uttarakhand', 18)\n",
      "('2013-01-03', 'Gulmarg, Jammu & Kashmir', 10)\n",
      "('2013-01-04', 'Katao, Sikkim', 6)\n",
      "('2013-01-05', 'Tawang, Arunachal Pradesh', 12)\n",
      "('2013-01-01', 'Shimla, Himachal Pradesh', 2)\n",
      "('2013-01-02', 'Nainital, Uttarakhand', 19)\n",
      "('2013-01-03', 'Gulmarg, Jammu & Kashmir', 4)\n",
      "('2013-01-04', 'Katao, Sikkim', 6)\n",
      "('2013-01-05', 'Tawang, Arunachal Pradesh', 7)\n",
      "('2013-01-01', 'Shimla, Himachal Pradesh', 18)\n",
      "('2013-01-02', 'Nainital, Uttarakhand', 8)\n",
      "('2013-01-03', 'Gulmarg, Jammu & Kashmir', 3)\n",
      "('2013-01-04', 'Katao, Sikkim', 7)\n",
      "('2013-01-05', 'Tawang, Arunachal Pradesh', 8)\n",
      "('2013-01-01', 'Shimla, Himachal Pradesh', 9)\n",
      "('2013-01-02', 'Nainital, Uttarakhand', 10)\n",
      "('2013-01-03', 'Gulmarg, Jammu & Kashmir', 15)\n",
      "('2013-01-04', 'Katao, Sikkim', 20)\n",
      "('2013-01-05', 'Tawang, Arunachal Pradesh', 8)\n"
     ]
    }
   ],
   "source": [
    "# Read all data from the weather_data table\n",
    "cursor.execute(\"SELECT * FROM weather_data\")\n",
    "data = cursor.fetchall()\n",
    "\n",
    "# Print the data\n",
    "for row in data:\n",
    "    print(row)\n"
   ]
  },
  {
   "cell_type": "code",
   "execution_count": 51,
   "id": "8ea2acc9",
   "metadata": {},
   "outputs": [
    {
     "name": "stdout",
     "output_type": "stream",
     "text": [
      "Day with maximum snowfall: 2013-01-04, Station: Katao, Sikkim, Snowfall Amount: 20 inches\n"
     ]
    }
   ],
   "source": [
    "# Find the day and station with maximum snowfall\n",
    "cursor.execute(\"SELECT Date, Station, Snowfall FROM weather_data ORDER BY Snowfall DESC LIMIT 1\")\n",
    "max_snowfall_day, max_snowfall_station, max_snowfall_amount = cursor.fetchone()\n",
    "\n",
    "print(f\"Day with maximum snowfall: {max_snowfall_day}, Station: {max_snowfall_station}, Snowfall Amount: {max_snowfall_amount} inches\")\n",
    "\n",
    "# Close the connection\n",
    "conn.close()\n"
   ]
  },
  {
   "cell_type": "code",
   "execution_count": null,
   "id": "50e7295e",
   "metadata": {},
   "outputs": [],
   "source": []
  },
  {
   "cell_type": "code",
   "execution_count": null,
   "id": "4f920fcb",
   "metadata": {},
   "outputs": [],
   "source": []
  },
  {
   "cell_type": "code",
   "execution_count": null,
   "id": "743ca646",
   "metadata": {},
   "outputs": [],
   "source": []
  },
  {
   "cell_type": "code",
   "execution_count": 52,
   "id": "29b4fe7e",
   "metadata": {},
   "outputs": [
    {
     "name": "stdout",
     "output_type": "stream",
     "text": [
      "('2013-01-01', 'Shimla, Himachal Pradesh', 6)\n",
      "('2013-01-02', 'Nainital, Uttarakhand', 11)\n",
      "('2013-01-03', 'Gulmarg, Jammu & Kashmir', 7)\n",
      "('2013-01-04', 'Katao, Sikkim', 17)\n",
      "('2013-01-05', 'Tawang, Arunachal Pradesh', 2)\n",
      "('2013-01-01', 'Shimla, Himachal Pradesh', 0)\n",
      "('2013-01-02', 'Nainital, Uttarakhand', 13)\n",
      "('2013-01-03', 'Gulmarg, Jammu & Kashmir', 19)\n",
      "('2013-01-04', 'Katao, Sikkim', 20)\n",
      "('2013-01-05', 'Tawang, Arunachal Pradesh', 10)\n",
      "('2013-01-01', 'Shimla, Himachal Pradesh', 9)\n",
      "('2013-01-02', 'Nainital, Uttarakhand', 6)\n",
      "('2013-01-03', 'Gulmarg, Jammu & Kashmir', 13)\n",
      "('2013-01-04', 'Katao, Sikkim', 15)\n",
      "('2013-01-05', 'Tawang, Arunachal Pradesh', 18)\n",
      "('2013-01-01', 'Shimla, Himachal Pradesh', 4)\n",
      "('2013-01-02', 'Nainital, Uttarakhand', 10)\n",
      "('2013-01-03', 'Gulmarg, Jammu & Kashmir', 2)\n",
      "('2013-01-04', 'Katao, Sikkim', 11)\n",
      "('2013-01-05', 'Tawang, Arunachal Pradesh', 3)\n",
      "('2013-01-01', 'Shimla, Himachal Pradesh', 13)\n",
      "('2013-01-02', 'Nainital, Uttarakhand', 5)\n",
      "('2013-01-03', 'Gulmarg, Jammu & Kashmir', 15)\n",
      "('2013-01-04', 'Katao, Sikkim', 6)\n",
      "('2013-01-05', 'Tawang, Arunachal Pradesh', 18)\n",
      "('2013-01-01', 'Shimla, Himachal Pradesh', 20)\n",
      "('2013-01-02', 'Nainital, Uttarakhand', 15)\n",
      "('2013-01-03', 'Gulmarg, Jammu & Kashmir', 16)\n",
      "('2013-01-04', 'Katao, Sikkim', 13)\n",
      "('2013-01-05', 'Tawang, Arunachal Pradesh', 13)\n",
      "('2013-01-01', 'Shimla, Himachal Pradesh', 4)\n",
      "('2013-01-02', 'Nainital, Uttarakhand', 18)\n",
      "('2013-01-03', 'Gulmarg, Jammu & Kashmir', 10)\n",
      "('2013-01-04', 'Katao, Sikkim', 6)\n",
      "('2013-01-05', 'Tawang, Arunachal Pradesh', 12)\n",
      "('2013-01-01', 'Shimla, Himachal Pradesh', 2)\n",
      "('2013-01-02', 'Nainital, Uttarakhand', 19)\n",
      "('2013-01-03', 'Gulmarg, Jammu & Kashmir', 4)\n",
      "('2013-01-04', 'Katao, Sikkim', 6)\n",
      "('2013-01-05', 'Tawang, Arunachal Pradesh', 7)\n",
      "('2013-01-01', 'Shimla, Himachal Pradesh', 18)\n",
      "('2013-01-02', 'Nainital, Uttarakhand', 8)\n",
      "('2013-01-03', 'Gulmarg, Jammu & Kashmir', 3)\n",
      "('2013-01-04', 'Katao, Sikkim', 7)\n",
      "('2013-01-05', 'Tawang, Arunachal Pradesh', 8)\n",
      "('2013-01-01', 'Shimla, Himachal Pradesh', 9)\n",
      "('2013-01-02', 'Nainital, Uttarakhand', 10)\n",
      "('2013-01-03', 'Gulmarg, Jammu & Kashmir', 15)\n",
      "('2013-01-04', 'Katao, Sikkim', 20)\n",
      "('2013-01-05', 'Tawang, Arunachal Pradesh', 8)\n",
      "Day with maximum snowfall: 2013-01-04, Station: Katao, Sikkim, Snowfall Amount: 20 inches\n"
     ]
    }
   ],
   "source": [
    "import sqlite3\n",
    "\n",
    "# Connect to the SQLite database\n",
    "conn = sqlite3.connect('weather_data_2013.db')\n",
    "cursor = conn.cursor()\n",
    "\n",
    "# Read all data from the weather_data table\n",
    "cursor.execute(\"SELECT * FROM weather_data\")\n",
    "data = cursor.fetchall()\n",
    "\n",
    "# Print the data\n",
    "for row in data:\n",
    "    print(row)\n",
    "\n",
    "# Find the day and station with maximum snowfall\n",
    "cursor.execute(\"SELECT Date, Station, Snowfall FROM weather_data ORDER BY Snowfall DESC LIMIT 1\")\n",
    "max_snowfall_day, max_snowfall_station, max_snowfall_amount = cursor.fetchone()\n",
    "\n",
    "print(f\"Day with maximum snowfall: {max_snowfall_day}, Station: {max_snowfall_station}, Snowfall Amount: {max_snowfall_amount} inches\")\n",
    "\n",
    "# Close the connection\n",
    "conn.close()\n"
   ]
  },
  {
   "cell_type": "code",
   "execution_count": null,
   "id": "0f3d3773",
   "metadata": {},
   "outputs": [],
   "source": []
  }
 ],
 "metadata": {
  "kernelspec": {
   "display_name": "Python 3 (ipykernel)",
   "language": "python",
   "name": "python3"
  },
  "language_info": {
   "codemirror_mode": {
    "name": "ipython",
    "version": 3
   },
   "file_extension": ".py",
   "mimetype": "text/x-python",
   "name": "python",
   "nbconvert_exporter": "python",
   "pygments_lexer": "ipython3",
   "version": "3.9.13"
  }
 },
 "nbformat": 4,
 "nbformat_minor": 5
}
